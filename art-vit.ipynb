{
 "cells": [
  {
   "cell_type": "markdown",
   "id": "30072b4d",
   "metadata": {
    "papermill": {
     "duration": 0.008276,
     "end_time": "2023-02-13T18:25:50.744235",
     "exception": false,
     "start_time": "2023-02-13T18:25:50.735959",
     "status": "completed"
    },
    "tags": []
   },
   "source": [
    "# Data handling and processing"
   ]
  },
  {
   "cell_type": "markdown",
   "id": "a6e3ebd9",
   "metadata": {
    "papermill": {
     "duration": 0.006529,
     "end_time": "2023-02-13T18:25:50.758104",
     "exception": false,
     "start_time": "2023-02-13T18:25:50.751575",
     "status": "completed"
    },
    "tags": []
   },
   "source": [
    "**Installing and importing dependencies**"
   ]
  },
  {
   "cell_type": "code",
   "execution_count": 1,
   "id": "0ecd634c",
   "metadata": {
    "execution": {
     "iopub.execute_input": "2023-02-13T18:25:50.775416Z",
     "iopub.status.busy": "2023-02-13T18:25:50.774224Z",
     "iopub.status.idle": "2023-02-13T18:26:09.157344Z",
     "shell.execute_reply": "2023-02-13T18:26:09.155413Z"
    },
    "papermill": {
     "duration": 18.396571,
     "end_time": "2023-02-13T18:26:09.161594",
     "exception": false,
     "start_time": "2023-02-13T18:25:50.765023",
     "status": "completed"
    },
    "tags": []
   },
   "outputs": [
    {
     "name": "stdout",
     "output_type": "stream",
     "text": [
      "Collecting torchinfo\r\n",
      "  Downloading torchinfo-1.7.2-py3-none-any.whl (22 kB)\r\n",
      "Installing collected packages: torchinfo\r\n",
      "Successfully installed torchinfo-1.7.2\r\n",
      "\u001b[33mWARNING: Running pip as the 'root' user can result in broken permissions and conflicting behaviour with the system package manager. It is recommended to use a virtual environment instead: https://pip.pypa.io/warnings/venv\u001b[0m\u001b[33m\r\n",
      "\u001b[0m"
     ]
    }
   ],
   "source": [
    "!pip install torchinfo"
   ]
  },
  {
   "cell_type": "code",
   "execution_count": 2,
   "id": "5efa2554",
   "metadata": {
    "execution": {
     "iopub.execute_input": "2023-02-13T18:26:09.206394Z",
     "iopub.status.busy": "2023-02-13T18:26:09.204988Z",
     "iopub.status.idle": "2023-02-13T18:26:14.210219Z",
     "shell.execute_reply": "2023-02-13T18:26:14.208625Z"
    },
    "papermill": {
     "duration": 5.041705,
     "end_time": "2023-02-13T18:26:14.214026",
     "exception": false,
     "start_time": "2023-02-13T18:26:09.172321",
     "status": "completed"
    },
    "tags": []
   },
   "outputs": [],
   "source": [
    "import torch\n",
    "from torch import nn\n",
    "import torchvision\n",
    "from torchvision import datasets, transforms as T\n",
    "from torch.utils.data import Dataset, DataLoader\n",
    "import torch.utils.data as data\n",
    "from torchinfo import summary\n",
    "from skimage import io\n",
    "\n",
    "import matplotlib.pyplot as plt\n",
    "import seaborn as sns\n",
    "from pathlib import Path\n",
    "from PIL import Image\n",
    "import numpy as np\n",
    "from tqdm import tqdm\n",
    "import cv2\n",
    "\n",
    "import os"
   ]
  },
  {
   "cell_type": "markdown",
   "id": "ba6b6037",
   "metadata": {
    "papermill": {
     "duration": 0.00793,
     "end_time": "2023-02-13T18:26:14.231860",
     "exception": false,
     "start_time": "2023-02-13T18:26:14.223930",
     "status": "completed"
    },
    "tags": []
   },
   "source": [
    "**Preparing data**"
   ]
  },
  {
   "cell_type": "code",
   "execution_count": 3,
   "id": "23026184",
   "metadata": {
    "execution": {
     "iopub.execute_input": "2023-02-13T18:26:14.249075Z",
     "iopub.status.busy": "2023-02-13T18:26:14.248240Z",
     "iopub.status.idle": "2023-02-13T18:26:14.257147Z",
     "shell.execute_reply": "2023-02-13T18:26:14.255553Z"
    },
    "papermill": {
     "duration": 0.022882,
     "end_time": "2023-02-13T18:26:14.261943",
     "exception": false,
     "start_time": "2023-02-13T18:26:14.239061",
     "status": "completed"
    },
    "tags": []
   },
   "outputs": [
    {
     "name": "stdout",
     "output_type": "stream",
     "text": [
      "{0: '/kaggle/input/wikiart-art-movementsstyles/Renaissance/Renaissance', 1: '/kaggle/input/wikiart-art-movementsstyles/Romanticism/Romanticism'}\n"
     ]
    }
   ],
   "source": [
    "image_dirs=['/kaggle/input/wikiart-art-movementsstyles/Renaissance/Renaissance',\n",
    "           '/kaggle/input/wikiart-art-movementsstyles/Romanticism/Romanticism']\n",
    "dir2img = {d: i for i, d in enumerate(image_dirs)}\n",
    "dir2img = {d: i for i, d in dir2img.items()}\n",
    "\n",
    "print(dir2img)"
   ]
  },
  {
   "cell_type": "code",
   "execution_count": 4,
   "id": "0b7057e7",
   "metadata": {
    "execution": {
     "iopub.execute_input": "2023-02-13T18:26:14.280852Z",
     "iopub.status.busy": "2023-02-13T18:26:14.279869Z",
     "iopub.status.idle": "2023-02-13T18:26:14.295416Z",
     "shell.execute_reply": "2023-02-13T18:26:14.293939Z"
    },
    "papermill": {
     "duration": 0.028149,
     "end_time": "2023-02-13T18:26:14.298967",
     "exception": false,
     "start_time": "2023-02-13T18:26:14.270818",
     "status": "completed"
    },
    "tags": []
   },
   "outputs": [],
   "source": [
    "class LoadImgData():\n",
    "    \"\"\" Load data from each dir as np arr and save loaded dataset.\"\"\"\n",
    "    def __init__(self):\n",
    "        self.ren = image_dirs[0]\n",
    "        self.rom = image_dirs[1]\n",
    "        self.labels = {self.ren: np.eye(2, 2)[0], self.rom: np.eye(2, 2)[1]}\n",
    "        self.dataset = []\n",
    "        self.ren_count = 0\n",
    "        self.rom_count = 0\n",
    "\n",
    "    def create_dataset(self):\n",
    "        \"\"\"Read image paths from dir and save them with labels.\"\"\"\n",
    "        for key in self.labels:\n",
    "          print(key)\n",
    "          for img_file in tqdm(os.listdir(key)):\n",
    "            try:\n",
    "              path = os.path.join(key, img_file)\n",
    "              \n",
    "              self.dataset.append([path, self.labels[key]])\n",
    "              \n",
    "              if key == self.ren:\n",
    "                self.ren_count+=1\n",
    "              elif key == self.rom:\n",
    "                self.rom_count+=1\n",
    "\n",
    "            except Exception as e:\n",
    "              pass\n",
    "     \n",
    "#         np.random.shuffle(self.dataset)\n",
    "    \n",
    "        print(f'\\n renaissance art images: {self.ren_count}')\n",
    "        print(f' romanticism art images: {self.rom_count}')\n",
    "        print(f'total: {self.ren_count + self.rom_count}')\n",
    "        return np.array(self.dataset, dtype='object')\n",
    "    \n",
    "    #save path,label"
   ]
  },
  {
   "cell_type": "code",
   "execution_count": 5,
   "id": "f01af6ea",
   "metadata": {
    "execution": {
     "iopub.execute_input": "2023-02-13T18:26:14.316333Z",
     "iopub.status.busy": "2023-02-13T18:26:14.315822Z",
     "iopub.status.idle": "2023-02-13T18:26:15.442215Z",
     "shell.execute_reply": "2023-02-13T18:26:15.440595Z"
    },
    "papermill": {
     "duration": 1.138589,
     "end_time": "2023-02-13T18:26:15.445228",
     "exception": false,
     "start_time": "2023-02-13T18:26:14.306639",
     "status": "completed"
    },
    "tags": []
   },
   "outputs": [
    {
     "name": "stdout",
     "output_type": "stream",
     "text": [
      "/kaggle/input/wikiart-art-movementsstyles/Renaissance/Renaissance\n"
     ]
    },
    {
     "name": "stderr",
     "output_type": "stream",
     "text": [
      "100%|██████████| 6192/6192 [00:00<00:00, 301327.67it/s]\n"
     ]
    },
    {
     "name": "stdout",
     "output_type": "stream",
     "text": [
      "/kaggle/input/wikiart-art-movementsstyles/Romanticism/Romanticism\n"
     ]
    },
    {
     "name": "stderr",
     "output_type": "stream",
     "text": [
      "100%|██████████| 6813/6813 [00:00<00:00, 290557.95it/s]"
     ]
    },
    {
     "name": "stdout",
     "output_type": "stream",
     "text": [
      "\n",
      " renaissance art images: 6192\n",
      " romanticism art images: 6813\n",
      "total: 13005\n"
     ]
    },
    {
     "name": "stderr",
     "output_type": "stream",
     "text": [
      "\n"
     ]
    }
   ],
   "source": [
    "img_data = LoadImgData()\n",
    "dataset = img_data.create_dataset()"
   ]
  },
  {
   "cell_type": "code",
   "execution_count": 6,
   "id": "564fc78d",
   "metadata": {
    "execution": {
     "iopub.execute_input": "2023-02-13T18:26:15.464626Z",
     "iopub.status.busy": "2023-02-13T18:26:15.464095Z",
     "iopub.status.idle": "2023-02-13T18:26:15.473505Z",
     "shell.execute_reply": "2023-02-13T18:26:15.471954Z"
    },
    "papermill": {
     "duration": 0.022622,
     "end_time": "2023-02-13T18:26:15.476677",
     "exception": false,
     "start_time": "2023-02-13T18:26:15.454055",
     "status": "completed"
    },
    "tags": []
   },
   "outputs": [],
   "source": [
    "class ArtDataset(Dataset):\n",
    "    def __init__(self, custom_dataset, transform=None):\n",
    "        \n",
    "        self.custom_dataset = custom_dataset\n",
    "        self.transform= transform\n",
    "\n",
    "    def __len__(self):\n",
    "        return len(self.custom_dataset)\n",
    "    \n",
    "    def __getitem__(self, idx):\n",
    "        image_path = self.custom_dataset[idx][0]\n",
    "        image = cv2.imread(image_path)\n",
    "        label = torch.tensor(self.custom_dataset[idx][1])\n",
    "        if self.transform:\n",
    "          image = self.transform(image)\n",
    "        return (image, label)\n",
    "    #take loadimgdata samples dataset arr, index idx row, you get path, label. read \n",
    "    "
   ]
  },
  {
   "cell_type": "code",
   "execution_count": 7,
   "id": "e8948d07",
   "metadata": {
    "execution": {
     "iopub.execute_input": "2023-02-13T18:26:15.496798Z",
     "iopub.status.busy": "2023-02-13T18:26:15.494997Z",
     "iopub.status.idle": "2023-02-13T18:26:15.504387Z",
     "shell.execute_reply": "2023-02-13T18:26:15.502891Z"
    },
    "papermill": {
     "duration": 0.022356,
     "end_time": "2023-02-13T18:26:15.507672",
     "exception": false,
     "start_time": "2023-02-13T18:26:15.485316",
     "status": "completed"
    },
    "tags": []
   },
   "outputs": [],
   "source": [
    "mean, std=(0.5, 0.5, 0.5), (0.5, 0.5, 0.5)\n",
    "img_size=224\n",
    "data_transforms=T.Compose([T.ToTensor(), T.Resize((img_size, img_size)), T.Normalize(mean, std)])\n"
   ]
  },
  {
   "cell_type": "code",
   "execution_count": 8,
   "id": "16e035d9",
   "metadata": {
    "execution": {
     "iopub.execute_input": "2023-02-13T18:26:15.527508Z",
     "iopub.status.busy": "2023-02-13T18:26:15.526732Z",
     "iopub.status.idle": "2023-02-13T18:26:15.533014Z",
     "shell.execute_reply": "2023-02-13T18:26:15.531499Z"
    },
    "papermill": {
     "duration": 0.020113,
     "end_time": "2023-02-13T18:26:15.535946",
     "exception": false,
     "start_time": "2023-02-13T18:26:15.515833",
     "status": "completed"
    },
    "tags": []
   },
   "outputs": [],
   "source": [
    "dataset = ArtDataset(dataset, transform=data_transforms)"
   ]
  },
  {
   "cell_type": "code",
   "execution_count": 9,
   "id": "7450cf28",
   "metadata": {
    "execution": {
     "iopub.execute_input": "2023-02-13T18:26:15.556841Z",
     "iopub.status.busy": "2023-02-13T18:26:15.553903Z",
     "iopub.status.idle": "2023-02-13T18:26:15.565382Z",
     "shell.execute_reply": "2023-02-13T18:26:15.563980Z"
    },
    "papermill": {
     "duration": 0.02454,
     "end_time": "2023-02-13T18:26:15.568645",
     "exception": false,
     "start_time": "2023-02-13T18:26:15.544105",
     "status": "completed"
    },
    "tags": []
   },
   "outputs": [],
   "source": [
    "train_set_size = int(len(dataset) * 0.75)\n",
    "valid_set_size = len(dataset) - train_set_size\n",
    "train_set, valid_set = data.random_split(dataset, [train_set_size, valid_set_size])"
   ]
  },
  {
   "cell_type": "code",
   "execution_count": 10,
   "id": "ca4ff2aa",
   "metadata": {
    "execution": {
     "iopub.execute_input": "2023-02-13T18:26:15.587915Z",
     "iopub.status.busy": "2023-02-13T18:26:15.586614Z",
     "iopub.status.idle": "2023-02-13T18:26:15.593850Z",
     "shell.execute_reply": "2023-02-13T18:26:15.592253Z"
    },
    "papermill": {
     "duration": 0.020038,
     "end_time": "2023-02-13T18:26:15.597133",
     "exception": false,
     "start_time": "2023-02-13T18:26:15.577095",
     "status": "completed"
    },
    "tags": []
   },
   "outputs": [],
   "source": [
    "train_dataloader = DataLoader(train_set, shuffle=True, batch_size=32)\n",
    "valid_dataloader = DataLoader(valid_set, shuffle=True, batch_size=32)"
   ]
  },
  {
   "cell_type": "markdown",
   "id": "d331d1f5",
   "metadata": {
    "papermill": {
     "duration": 0.007767,
     "end_time": "2023-02-13T18:26:15.612958",
     "exception": false,
     "start_time": "2023-02-13T18:26:15.605191",
     "status": "completed"
    },
    "tags": []
   },
   "source": [
    "**Plotting out image.** "
   ]
  },
  {
   "cell_type": "code",
   "execution_count": 11,
   "id": "aa027f6e",
   "metadata": {
    "execution": {
     "iopub.execute_input": "2023-02-13T18:26:15.631778Z",
     "iopub.status.busy": "2023-02-13T18:26:15.630801Z",
     "iopub.status.idle": "2023-02-13T18:26:15.638714Z",
     "shell.execute_reply": "2023-02-13T18:26:15.637245Z"
    },
    "papermill": {
     "duration": 0.020869,
     "end_time": "2023-02-13T18:26:15.641974",
     "exception": false,
     "start_time": "2023-02-13T18:26:15.621105",
     "status": "completed"
    },
    "tags": []
   },
   "outputs": [],
   "source": [
    "def denorm(tensor, mean=0.5, std=0.5):\n",
    "    output=std*tensor+mean\n",
    "    return torch.clamp(output, 0,1)"
   ]
  },
  {
   "cell_type": "code",
   "execution_count": 12,
   "id": "c4d8ab80",
   "metadata": {
    "execution": {
     "iopub.execute_input": "2023-02-13T18:26:15.661242Z",
     "iopub.status.busy": "2023-02-13T18:26:15.659783Z",
     "iopub.status.idle": "2023-02-13T18:26:19.036932Z",
     "shell.execute_reply": "2023-02-13T18:26:19.035334Z"
    },
    "papermill": {
     "duration": 3.390004,
     "end_time": "2023-02-13T18:26:19.040209",
     "exception": false,
     "start_time": "2023-02-13T18:26:15.650205",
     "status": "completed"
    },
    "tags": []
   },
   "outputs": [
    {
     "data": {
      "text/plain": [
       "(torch.Size([3, 224, 224]), tensor([1., 0.], dtype=torch.float64))"
      ]
     },
     "execution_count": 12,
     "metadata": {},
     "output_type": "execute_result"
    }
   ],
   "source": [
    "image_batch, label_batch=next(iter(train_dataloader))\n",
    "image, label = image_batch[0] , label_batch[0]\n",
    "image.shape, label"
   ]
  },
  {
   "cell_type": "code",
   "execution_count": 13,
   "id": "fe23b118",
   "metadata": {
    "execution": {
     "iopub.execute_input": "2023-02-13T18:26:19.059207Z",
     "iopub.status.busy": "2023-02-13T18:26:19.058643Z",
     "iopub.status.idle": "2023-02-13T18:26:19.291816Z",
     "shell.execute_reply": "2023-02-13T18:26:19.290262Z"
    },
    "papermill": {
     "duration": 0.247983,
     "end_time": "2023-02-13T18:26:19.296519",
     "exception": false,
     "start_time": "2023-02-13T18:26:19.048536",
     "status": "completed"
    },
    "tags": []
   },
   "outputs": [
    {
     "data": {
      "image/png": "[encoded data removed]",
      "text/plain": [
       "<Figure size 432x288 with 1 Axes>"
      ]
     },
     "metadata": {
      "needs_background": "light"
     },
     "output_type": "display_data"
    }
   ],
   "source": [
    "plt.imshow(denorm(image.permute(1, 2, 0)))\n",
    "plt.axis(False);"
   ]
  },
  {
   "cell_type": "markdown",
   "id": "66de132a",
   "metadata": {
    "papermill": {
     "duration": 0.010299,
     "end_time": "2023-02-13T18:26:19.317728",
     "exception": false,
     "start_time": "2023-02-13T18:26:19.307429",
     "status": "completed"
    },
    "tags": []
   },
   "source": [
    "------------------------------------"
   ]
  },
  {
   "cell_type": "markdown",
   "id": "fc6f1b5d",
   "metadata": {
    "papermill": {
     "duration": 0.01355,
     "end_time": "2023-02-13T18:26:19.341111",
     "exception": false,
     "start_time": "2023-02-13T18:26:19.327561",
     "status": "completed"
    },
    "tags": []
   },
   "source": [
    "# Model utilities"
   ]
  },
  {
   "cell_type": "markdown",
   "id": "aa784b4d",
   "metadata": {
    "papermill": {
     "duration": 0.009588,
     "end_time": "2023-02-13T18:26:19.360389",
     "exception": false,
     "start_time": "2023-02-13T18:26:19.350801",
     "status": "completed"
    },
    "tags": []
   },
   "source": [
    "**Patch Embedding**"
   ]
  },
  {
   "cell_type": "code",
   "execution_count": 14,
   "id": "b8a26a6b",
   "metadata": {
    "execution": {
     "iopub.execute_input": "2023-02-13T18:26:19.382229Z",
     "iopub.status.busy": "2023-02-13T18:26:19.381692Z",
     "iopub.status.idle": "2023-02-13T18:26:19.394573Z",
     "shell.execute_reply": "2023-02-13T18:26:19.392871Z"
    },
    "papermill": {
     "duration": 0.027906,
     "end_time": "2023-02-13T18:26:19.398135",
     "exception": false,
     "start_time": "2023-02-13T18:26:19.370229",
     "status": "completed"
    },
    "tags": []
   },
   "outputs": [],
   "source": [
    "class PatchEmbedding(nn.Module):\n",
    "    \n",
    "    '''\n",
    "    Takes a 2-D image and turns it into a 1D sequence learnable embedding.\n",
    "    \n",
    "    Args:\n",
    "        in_channels(int): number of color channels (C) default:3\n",
    "        patch_size(int): side of sq patch\n",
    "        embedding_dim: output dim  (N x (P^2 . C))\n",
    "    ''' \n",
    "    \n",
    "    def __init__(self, in_channels:int=3, \n",
    "                 patch_size:int=16,\n",
    "                embedding_dim:int=768):\n",
    "        super().__init__()\n",
    "        \n",
    "        #conv layer to turn images into patches\n",
    "        self.patcher=nn.Conv2d(in_channels=in_channels,\n",
    "                               out_channels=embedding_dim,\n",
    "                               kernel_size=patch_size,\n",
    "                               stride=patch_size,\n",
    "                               padding=0)\n",
    "        \n",
    "        #flatten layer to flatten patch feature maps into a single dimension\n",
    "        self.flatten=nn.Flatten(start_dim=2,\n",
    "                               end_dim=3)\n",
    "        \n",
    "    def forward(self, x):\n",
    "        img_resolution=x.shape[-1]\n",
    "#         assert img_resolution % patch_size==0, f\"Input img size should be divisible by patch size for proper patching execution.\"\n",
    "        \n",
    "        x_patched=self.patcher(x)\n",
    "        x_flattened=self.flatten(x_patched)\n",
    "        \n",
    "        return x_flattened.permute(0, 2, 1)"
   ]
  },
  {
   "cell_type": "code",
   "execution_count": 15,
   "id": "188ddae1",
   "metadata": {
    "execution": {
     "iopub.execute_input": "2023-02-13T18:26:19.419826Z",
     "iopub.status.busy": "2023-02-13T18:26:19.419351Z",
     "iopub.status.idle": "2023-02-13T18:26:19.496707Z",
     "shell.execute_reply": "2023-02-13T18:26:19.494970Z"
    },
    "papermill": {
     "duration": 0.09311,
     "end_time": "2023-02-13T18:26:19.501068",
     "exception": false,
     "start_time": "2023-02-13T18:26:19.407958",
     "status": "completed"
    },
    "tags": []
   },
   "outputs": [
    {
     "name": "stdout",
     "output_type": "stream",
     "text": [
      "Input image shape: torch.Size([1, 3, 224, 224])\n",
      "Output patch embedding shape: torch.Size([1, 196, 768])\n"
     ]
    }
   ],
   "source": [
    "patchify = PatchEmbedding(in_channels=3,\n",
    "                          patch_size=16,\n",
    "                          embedding_dim=768)\n",
    "print(f\"Input image shape: {image.unsqueeze(0).shape}\")\n",
    "patch_embedded_image = patchify(image.unsqueeze(0)) # add an extra batch dimension on the 0th index, otherwise will error\n",
    "print(f\"Output patch embedding shape: {patch_embedded_image.shape}\")"
   ]
  },
  {
   "cell_type": "code",
   "execution_count": 16,
   "id": "9c5209cb",
   "metadata": {
    "execution": {
     "iopub.execute_input": "2023-02-13T18:26:19.522787Z",
     "iopub.status.busy": "2023-02-13T18:26:19.522299Z",
     "iopub.status.idle": "2023-02-13T18:26:28.787795Z",
     "shell.execute_reply": "2023-02-13T18:26:28.786269Z"
    },
    "papermill": {
     "duration": 9.280553,
     "end_time": "2023-02-13T18:26:28.791374",
     "exception": false,
     "start_time": "2023-02-13T18:26:19.510821",
     "status": "completed"
    },
    "tags": []
   },
   "outputs": [
    {
     "data": {
      "text/plain": [
       "========================================================================================================================\n",
       "Layer (type (var_name))                  Input Shape          Output Shape         Param #              Trainable\n",
       "========================================================================================================================\n",
       "PatchEmbedding (PatchEmbedding)          [1, 3, 224, 224]     [1, 196, 768]        --                   True\n",
       "├─Conv2d (patcher)                       [1, 3, 224, 224]     [1, 768, 14, 14]     590,592              True\n",
       "├─Flatten (flatten)                      [1, 768, 14, 14]     [1, 768, 196]        --                   --\n",
       "========================================================================================================================\n",
       "Total params: 590,592\n",
       "Trainable params: 590,592\n",
       "Non-trainable params: 0\n",
       "Total mult-adds (M): 115.76\n",
       "========================================================================================================================\n",
       "Input size (MB): 0.60\n",
       "Forward/backward pass size (MB): 1.20\n",
       "Params size (MB): 2.36\n",
       "Estimated Total Size (MB): 4.17\n",
       "========================================================================================================================"
      ]
     },
     "execution_count": 16,
     "metadata": {},
     "output_type": "execute_result"
    }
   ],
   "source": [
    "\n",
    "random_input_image = (1, 3, 224, 224)\n",
    "\n",
    "summary(PatchEmbedding(), \n",
    "        input_size=random_input_image,\n",
    "        col_names=[\"input_size\", \"output_size\", \"num_params\", \"trainable\"],\n",
    "        col_width=20,\n",
    "        row_settings=[\"var_names\"])"
   ]
  },
  {
   "cell_type": "markdown",
   "id": "7dfe77e6",
   "metadata": {
    "papermill": {
     "duration": 0.009907,
     "end_time": "2023-02-13T18:26:28.811034",
     "exception": false,
     "start_time": "2023-02-13T18:26:28.801127",
     "status": "completed"
    },
    "tags": []
   },
   "source": [
    "**Class Token Embedding**"
   ]
  },
  {
   "cell_type": "code",
   "execution_count": null,
   "id": "4ccac61f",
   "metadata": {
    "papermill": {
     "duration": 0.009498,
     "end_time": "2023-02-13T18:26:28.830440",
     "exception": false,
     "start_time": "2023-02-13T18:26:28.820942",
     "status": "completed"
    },
    "tags": []
   },
   "outputs": [],
   "source": []
  }
 ],
 "metadata": {
  "kernelspec": {
   "display_name": "Python 3",
   "language": "python",
   "name": "python3"
  },
  "language_info": {
   "codemirror_mode": {
    "name": "ipython",
    "version": 3
   },
   "file_extension": ".py",
   "mimetype": "text/x-python",
   "name": "python",
   "nbconvert_exporter": "python",
   "pygments_lexer": "ipython3",
   "version": "3.7.12"
  },
  "papermill": {
   "default_parameters": {},
   "duration": 55.422318,
   "end_time": "2023-02-13T18:26:32.003856",
   "environment_variables": {},
   "exception": null,
   "input_path": "__notebook__.ipynb",
   "output_path": "__notebook__.ipynb",
   "parameters": {},
   "start_time": "2023-02-13T18:25:36.581538",
   "version": "2.3.4"
  }
 },
 "nbformat": 4,
 "nbformat_minor": 5
}
